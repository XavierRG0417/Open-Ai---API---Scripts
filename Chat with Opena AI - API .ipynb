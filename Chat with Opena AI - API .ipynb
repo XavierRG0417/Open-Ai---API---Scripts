{
 "cells": [
  {
   "cell_type": "code",
   "execution_count": null,
   "id": "01a00947",
   "metadata": {},
   "outputs": [],
   "source": [
    "import os\n",
    "import openai\n",
    "\n",
    "# Load your API key from an environment variable or secret management service\n",
    "openai.api_key = \"OPEN_AI_KEY\"\n",
    "\n",
    "# Generates a response using the OpenAI API \n",
    "response = openai.Completion.create(model=\"text-davinci-003\", prompt=\"Say this is a test\", temperature=0, max_tokens=7)\n",
    "# Set the model you want to use\n",
    "model_engine = \"text-davinci-002\"\n",
    "\n",
    "# Define the initial prompt to start the conversation\n",
    "prompt = \"Hello, how can I assist you today?\"\n",
    "\n",
    "# Define a function to generate a response based on user input\n",
    "def generate_response(prompt):\n",
    "    response = openai.Completion.create(\n",
    "        engine=model_engine,\n",
    "        prompt=prompt,\n",
    "        max_tokens=60,\n",
    "        n=1,\n",
    "        stop=None,\n",
    "        temperature=0.5,\n",
    "    )\n",
    "    message = response.choices[0].text.strip()\n",
    "    return message\n",
    "\n",
    "# Start the conversation\n",
    "print(\"Bot: \" + prompt)\n",
    "\n",
    "# Loop to continue the conversation until the user types \"exit\"\n",
    "while True:\n",
    "    # Get user input\n",
    "    user_input = input(\"You: \")\n",
    "    \n",
    "    # Check if the user wants to exit\n",
    "    if user_input.lower() == \"exit\":\n",
    "        print(\"Bot: Goodbye!\")\n",
    "        break\n",
    "    \n",
    "    # Generate a response based on user input\n",
    "    prompt += \"\\nUser: \" + user_input\n",
    "    response = generate_response(prompt)\n",
    "    \n",
    "    # Print the bot's response\n",
    "    print(\"Bot: \" + response)\n",
    "    \n",
    "    # Update the prompt with the user's message and bot's response\n",
    "    prompt += \"\\nBot: \" + response"
   ]
  }
 ],
 "metadata": {
  "kernelspec": {
   "display_name": "Python 3 (ipykernel)",
   "language": "python",
   "name": "python3"
  },
  "language_info": {
   "codemirror_mode": {
    "name": "ipython",
    "version": 3
   },
   "file_extension": ".py",
   "mimetype": "text/x-python",
   "name": "python",
   "nbconvert_exporter": "python",
   "pygments_lexer": "ipython3",
   "version": "3.9.13"
  }
 },
 "nbformat": 4,
 "nbformat_minor": 5
}
